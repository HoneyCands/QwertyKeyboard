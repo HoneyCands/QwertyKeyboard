{
 "cells": [
  {
   "cell_type": "code",
   "execution_count": 5,
   "metadata": {},
   "outputs": [
    {
     "name": "stdout",
     "output_type": "stream",
     "text": [
      " "
     ]
    }
   ],
   "source": [
    "import cv2\n",
    "import numpy as np\n",
    "from keras.models import load_model\n",
    "from sys import stdout\n",
    "\n",
    "model = load_model(\"anmol/fq.h5\")\n",
    "\n",
    "s1 = ' ' \n",
    "s2 = ' '\n",
    "cam = cv2.VideoCapture(2)\n",
    "count = 0\n",
    "\n",
    "while(True):\n",
    "    ret, frame = cam.read()\n",
    "    gray = cv2.cvtColor(frame, cv2.COLOR_BGR2GRAY)\n",
    "    cv2.line(gray, (68,18), (554, 18), (255), 1)\n",
    "    cv2.line(gray, (8,145), (630, 145), (255), 1)\n",
    "    cv2.line(gray, (8,145), (68,18), (255), 1)\n",
    "    cv2.line(gray, (630,145), (554,18), (255), 1)\n",
    "    cv2.imshow(\"Frame\",gray)\n",
    "\n",
    "    k = cv2.waitKey(1)\n",
    "    if k == 113:\n",
    "        break\n",
    "    else:\n",
    "        im = cv2.resize(gray,(320,240))\n",
    "        im = im[:80,:]\n",
    "        arr = model.predict(im.reshape(1,80,320,1))\n",
    "        val = int(np.where(arr == np.amax(arr))[1][0]) + 55\n",
    "        \n",
    "        if(s1[-1] != chr(val)):\n",
    "            s1 += chr(val)\n",
    "            if(val == 92):\n",
    "                continue\n",
    "            if(s1[-1] == '['):\n",
    "                s2 += ' '\n",
    "            else:\n",
    "                s2 += s1[-1]\n",
    "        stdout.write(\"\\r%s\" % s2)\n",
    "        stdout.flush() \n",
    "cam.release()\n",
    "cv2.destroyAllWindows()"
   ]
  },
  {
   "cell_type": "code",
   "execution_count": null,
   "metadata": {},
   "outputs": [],
   "source": []
  }
 ],
 "metadata": {
  "kernelspec": {
   "display_name": "Python 3",
   "language": "python",
   "name": "python3"
  },
  "language_info": {
   "codemirror_mode": {
    "name": "ipython",
    "version": 3
   },
   "file_extension": ".py",
   "mimetype": "text/x-python",
   "name": "python",
   "nbconvert_exporter": "python",
   "pygments_lexer": "ipython3",
   "version": "3.6.10"
  }
 },
 "nbformat": 4,
 "nbformat_minor": 4
}
